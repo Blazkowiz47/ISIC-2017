{
 "cells": [
  {
   "cell_type": "code",
   "execution_count": null,
   "metadata": {
    "executionInfo": {
     "elapsed": 428,
     "status": "ok",
     "timestamp": 1655385845936,
     "user": {
      "displayName": "Sushrut Patwardhan",
      "userId": "12786521497246813743"
     },
     "user_tz": -330
    },
    "id": "PofVtRtqpct4"
   },
   "outputs": [],
   "source": [
    "import matplotlib.pyplot as plt\n",
    "import numpy as np\n",
    "import pandas as pd\n",
    "import tensorflow as tf\n",
    "\n",
    "from sklearn.metrics import accuracy_score, precision_score, recall_score\n",
    "from sklearn.model_selection import train_test_split\n",
    "from tensorflow.keras import layers, losses\n",
    "from tensorflow.keras.datasets import mnist\n",
    "from tensorflow.keras.models import Model"
   ]
  },
  {
   "cell_type": "code",
   "execution_count": null,
   "metadata": {
    "colab": {
     "base_uri": "https://localhost:8080/"
    },
    "executionInfo": {
     "elapsed": 782,
     "status": "ok",
     "timestamp": 1655387597662,
     "user": {
      "displayName": "Sushrut Patwardhan",
      "userId": "12786521497246813743"
     },
     "user_tz": -330
    },
    "id": "pM2AXKV8p5ao",
    "outputId": "9dd5b1e5-1dba-49dd-cb5d-b86502d77ba8"
   },
   "outputs": [],
   "source": [
    "(x_train, y_train), (x_test, y_test) = mnist.load_data()\n",
    "\n",
    "x_train = x_train.astype('float32') / 255.0\n",
    "x_test = x_test.astype('float32') / 255.0\n",
    "x_train = x_train.reshape(-1, 28, 28, 1)\n",
    "x_test = x_test.reshape(-1, 28, 28, 1)\n",
    "# x_train = x_train.reshape((len(x_train), np.prod(x_train.shape[1:])))\n",
    "# x_test = x_test.reshape((len(x_test), np.prod(x_test.shape[1:])))\n",
    "\n",
    "print(x_train.shape)\n",
    "print(x_test.shape)"
   ]
  },
  {
   "cell_type": "code",
   "execution_count": null,
   "metadata": {
    "executionInfo": {
     "elapsed": 3,
     "status": "ok",
     "timestamp": 1655385847029,
     "user": {
      "displayName": "Sushrut Patwardhan",
      "userId": "12786521497246813743"
     },
     "user_tz": -330
    },
    "id": "muyX0EEnp5tY"
   },
   "outputs": [],
   "source": [
    "latent_dim = 64\n",
    "class DenseEncoders(Model):\n",
    "\n",
    "    def __init__(self, latent_dim):\n",
    "        super(DenseEncoders, self).__init__()\n",
    "        self.latent_dim = latent_dim\n",
    "        self.encoder = tf.keras.Sequential([\n",
    "            layers.Flatten(),\n",
    "            layers.Dense( latent_dim , activation='relu')\n",
    "        ])\n",
    "        self.decoder = tf.keras.Sequential([\n",
    "            layers.Dense(28*28, activation='sigmoid'),\n",
    "            layers.Reshape((28,28))\n",
    "        ])\n",
    "    def call(self,x):\n",
    "        encoded = self.encoder(x)\n",
    "        decoded = self.decoder(encoded)\n",
    "        return decoded"
   ]
  },
  {
   "cell_type": "code",
   "execution_count": null,
   "metadata": {
    "executionInfo": {
     "elapsed": 3,
     "status": "ok",
     "timestamp": 1655385847029,
     "user": {
      "displayName": "Sushrut Patwardhan",
      "userId": "12786521497246813743"
     },
     "user_tz": -330
    },
    "id": "93pIPpZxp54r"
   },
   "outputs": [],
   "source": [
    "autoencoder = DenseEncoders(latent_dim)\n"
   ]
  },
  {
   "cell_type": "code",
   "execution_count": null,
   "metadata": {
    "executionInfo": {
     "elapsed": 3,
     "status": "ok",
     "timestamp": 1655385847030,
     "user": {
      "displayName": "Sushrut Patwardhan",
      "userId": "12786521497246813743"
     },
     "user_tz": -330
    },
    "id": "enoHGovXp58_"
   },
   "outputs": [],
   "source": [
    "autoencoder.compile(optimizer='adam', loss=losses.MeanSquaredError())"
   ]
  },
  {
   "cell_type": "code",
   "execution_count": null,
   "metadata": {
    "colab": {
     "base_uri": "https://localhost:8080/"
    },
    "executionInfo": {
     "elapsed": 74240,
     "status": "ok",
     "timestamp": 1655385921267,
     "user": {
      "displayName": "Sushrut Patwardhan",
      "userId": "12786521497246813743"
     },
     "user_tz": -330
    },
    "id": "iPKU-lHnp6A3",
    "outputId": "76580569-ed67-4d94-ad54-61fc2a9ba4c9"
   },
   "outputs": [],
   "source": [
    "autoencoder.fit(x_train, x_train,\n",
    "                epochs=10,\n",
    "                shuffle=True,\n",
    "                validation_data=(x_test, x_test))"
   ]
  },
  {
   "cell_type": "code",
   "execution_count": null,
   "metadata": {
    "executionInfo": {
     "elapsed": 4,
     "status": "ok",
     "timestamp": 1655385922775,
     "user": {
      "displayName": "Sushrut Patwardhan",
      "userId": "12786521497246813743"
     },
     "user_tz": -330
    },
    "id": "M0O5ryqxr9FP"
   },
   "outputs": [],
   "source": [
    "encoded_imgs = autoencoder.encoder(x_test).numpy()\n",
    "decoded_imgs = autoencoder.decoder(encoded_imgs).numpy()"
   ]
  },
  {
   "cell_type": "code",
   "execution_count": null,
   "metadata": {
    "colab": {
     "base_uri": "https://localhost:8080/",
     "height": 264
    },
    "executionInfo": {
     "elapsed": 1462,
     "status": "ok",
     "timestamp": 1655385924234,
     "user": {
      "displayName": "Sushrut Patwardhan",
      "userId": "12786521497246813743"
     },
     "user_tz": -330
    },
    "id": "YEdy-rnjr902",
    "outputId": "e7745527-427d-4acf-d683-fd6b9014f994"
   },
   "outputs": [],
   "source": [
    "n = 10\n",
    "plt.figure(figsize=(20, 4))\n",
    "for i in range(n):\n",
    "  # display original\n",
    "  ax = plt.subplot(2, n, i + 1)\n",
    "  plt.imshow(x_test[i])\n",
    "  plt.title(\"original\")\n",
    "  plt.gray()\n",
    "  ax.get_xaxis().set_visible(False)\n",
    "  ax.get_yaxis().set_visible(False)\n",
    "\n",
    "  # display reconstruction\n",
    "  ax = plt.subplot(2, n, i + 1 + n)\n",
    "  plt.imshow(decoded_imgs[i])\n",
    "  plt.title(\"reconstructed\")\n",
    "  plt.gray()\n",
    "  ax.get_xaxis().set_visible(False)\n",
    "  ax.get_yaxis().set_visible(False)\n",
    "plt.show()"
   ]
  },
  {
   "cell_type": "code",
   "execution_count": null,
   "metadata": {
    "executionInfo": {
     "elapsed": 513,
     "status": "ok",
     "timestamp": 1655386811680,
     "user": {
      "displayName": "Sushrut Patwardhan",
      "userId": "12786521497246813743"
     },
     "user_tz": -330
    },
    "id": "CJgBNk5er97a"
   },
   "outputs": [],
   "source": [
    "class ConvEncoders(Model):\n",
    "  def __init__(self):\n",
    "    super(ConvEncoders, self).__init__()\n",
    "    self.encoder = tf.keras.Sequential([\n",
    "     \n",
    "        tf.keras.layers.InputLayer(input_shape=(28,28,1) ),\n",
    "      layers.Conv2D(16, (3,3), activation='relu', padding='same', strides=2),\n",
    "      layers.Conv2D(8, (3, 3), activation='relu', padding='same', strides=2)\n",
    "    ])\n",
    "    self.decoder = tf.keras.Sequential([\n",
    "      layers.Conv2DTranspose(8, kernel_size=3, strides=2, activation='relu', padding='same'),\n",
    "      layers.Conv2DTranspose(16, kernel_size=3, strides=2, activation='relu', padding='same'),\n",
    "      layers.Conv2D(1, kernel_size=(3, 3), activation='sigmoid', padding='same')])\n",
    "  def call(self,x):\n",
    "    encoded = self.encoder(x)\n",
    "    decoded = self.decoder(encoded)\n",
    "    return decoded\n",
    "\n"
   ]
  },
  {
   "cell_type": "code",
   "execution_count": null,
   "metadata": {
    "executionInfo": {
     "elapsed": 4,
     "status": "ok",
     "timestamp": 1655386813829,
     "user": {
      "displayName": "Sushrut Patwardhan",
      "userId": "12786521497246813743"
     },
     "user_tz": -330
    },
    "id": "tJsasWuCr-Ba"
   },
   "outputs": [],
   "source": [
    "autoencoder = ConvEncoders()"
   ]
  },
  {
   "cell_type": "code",
   "execution_count": null,
   "metadata": {
    "executionInfo": {
     "elapsed": 512,
     "status": "ok",
     "timestamp": 1655386817515,
     "user": {
      "displayName": "Sushrut Patwardhan",
      "userId": "12786521497246813743"
     },
     "user_tz": -330
    },
    "id": "-XW13BIJvf7I"
   },
   "outputs": [],
   "source": [
    "autoencoder.compile(optimizer='adam', loss=losses.MeanSquaredError())\n",
    "print(\"Num GPUs Available: \", len(tf.config.list_physical_devices('GPU')))"
   ]
  },
  {
   "cell_type": "code",
   "execution_count": null,
   "metadata": {
    "colab": {
     "base_uri": "https://localhost:8080/"
    },
    "executionInfo": {
     "elapsed": 743022,
     "status": "ok",
     "timestamp": 1655387596888,
     "user": {
      "displayName": "Sushrut Patwardhan",
      "userId": "12786521497246813743"
     },
     "user_tz": -330
    },
    "id": "4NVdG0vzvgMk",
    "outputId": "1ee6f96a-6cd0-4c70-eb9e-cc514971f622"
   },
   "outputs": [],
   "source": [
    "autoencoder.fit(x_train, x_train, epochs=10, shuffle=True, validation_data=(x_test, x_test))"
   ]
  },
  {
   "cell_type": "code",
   "execution_count": null,
   "metadata": {
    "colab": {
     "base_uri": "https://localhost:8080/"
    },
    "executionInfo": {
     "elapsed": 2705,
     "status": "ok",
     "timestamp": 1655387608672,
     "user": {
      "displayName": "Sushrut Patwardhan",
      "userId": "12786521497246813743"
     },
     "user_tz": -330
    },
    "id": "OV0IgAVYvgTJ",
    "outputId": "1290f9fc-9708-4514-9b8a-6fc8a562cba9"
   },
   "outputs": [],
   "source": [
    "encoded_imgs = autoencoder.encoder(x_test).numpy()\n",
    "print(encoded_imgs.shape)\n",
    "decoded_imgs = autoencoder.decoder(encoded_imgs).numpy()"
   ]
  },
  {
   "cell_type": "code",
   "execution_count": null,
   "metadata": {
    "colab": {
     "base_uri": "https://localhost:8080/",
     "height": 264
    },
    "executionInfo": {
     "elapsed": 860,
     "status": "ok",
     "timestamp": 1655387602553,
     "user": {
      "displayName": "Sushrut Patwardhan",
      "userId": "12786521497246813743"
     },
     "user_tz": -330
    },
    "id": "SeMQZBrfvgZR",
    "outputId": "3d1ab94c-225e-40e5-8f65-f90f48a2760f"
   },
   "outputs": [],
   "source": [
    "n = 10\n",
    "plt.figure(figsize=(20, 4))\n",
    "for i in range(n):\n",
    "\n",
    "    # display original + noise\n",
    "    ax = plt.subplot(2, n, i + 1)\n",
    "    plt.title(\"original + noise\")\n",
    "    plt.imshow(tf.squeeze(x_test[i]))\n",
    "    plt.gray()\n",
    "    ax.get_xaxis().set_visible(False)\n",
    "    ax.get_yaxis().set_visible(False)\n",
    "\n",
    "    # display reconstruction\n",
    "    bx = plt.subplot(2, n, i + n + 1)\n",
    "    plt.title(\"reconstructed\")\n",
    "    plt.imshow(tf.squeeze(decoded_imgs[i]))\n",
    "    plt.gray()\n",
    "    bx.get_xaxis().set_visible(False)\n",
    "    bx.get_yaxis().set_visible(False)\n",
    "plt.show()"
   ]
  }
 ],
 "metadata": {
  "colab": {
   "authorship_tag": "ABX9TyNNudYJgrdW8uqNgRrHFr8W",
   "name": "autoencoders.ipynb",
   "provenance": []
  },
  "kernelspec": {
   "display_name": "Python 3.9.12 ('blazkowiz')",
   "language": "python",
   "name": "python3"
  },
  "language_info": {
   "codemirror_mode": {
    "name": "ipython",
    "version": 3
   },
   "file_extension": ".py",
   "mimetype": "text/x-python",
   "name": "python",
   "nbconvert_exporter": "python",
   "pygments_lexer": "ipython3",
   "version": "3.9.12"
  },
  "vscode": {
   "interpreter": {
    "hash": "7ee5975616448165ec7473ca23f75162aeb86cbb1e3b29bb11b91e477bc89a19"
   }
  }
 },
 "nbformat": 4,
 "nbformat_minor": 1
}
