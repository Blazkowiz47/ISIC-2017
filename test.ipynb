{
 "cells": [
  {
   "cell_type": "code",
   "execution_count": 1,
   "metadata": {},
   "outputs": [],
   "source": [
    "import utils.Encryption as cen\n",
    "from PIL import Image\n",
    "import json\n",
    "import numpy as np\n",
    "import matplotlib.pyplot as plt\n",
    "from collections import Counter\n",
    "\n",
    "train_dir = \"F:\\\\pps_paper\\\\dataset\\\\train\"\n",
    "test_dir = \"F:\\\\pps_paper\\\\dataset\\\\test\"\n",
    "original_dir = train_dir+\"\\\\Data\"    \n",
    "train_meta_data_path = original_dir+\"\\\\ISIC-2017_Training_Data_metadata.csv\"\n",
    "train_ground_truth_dir = train_dir+\"\\\\GroundTruth_1\"    \n",
    "encrypted_dir = train_dir+\"\\\\DataE\"   \n",
    "preprocessed_dir_train = train_dir+\"\\\\DataP\"\n",
    "preprocessed_dir_gt = train_dir+\"\\\\GroundTruth_1P\""
   ]
  },
  {
   "cell_type": "code",
   "execution_count": 2,
   "metadata": {},
   "outputs": [],
   "source": []
  }
 ],
 "metadata": {
  "kernelspec": {
   "display_name": "Python 3.9.12 ('blazkowiz')",
   "language": "python",
   "name": "python3"
  },
  "language_info": {
   "codemirror_mode": {
    "name": "ipython",
    "version": 3
   },
   "file_extension": ".py",
   "mimetype": "text/x-python",
   "name": "python",
   "nbconvert_exporter": "python",
   "pygments_lexer": "ipython3",
   "version": "3.9.12"
  },
  "orig_nbformat": 4,
  "vscode": {
   "interpreter": {
    "hash": "7ee5975616448165ec7473ca23f75162aeb86cbb1e3b29bb11b91e477bc89a19"
   }
  }
 },
 "nbformat": 4,
 "nbformat_minor": 2
}
