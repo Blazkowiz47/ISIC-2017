{
 "cells": [
  {
   "cell_type": "code",
   "execution_count": 1,
   "metadata": {},
   "outputs": [
    {
     "name": "stderr",
     "output_type": "stream",
     "text": [
      "d:\\ProgramData\\Anaconda3\\envs\\isic\\lib\\site-packages\\scipy\\__init__.py:146: UserWarning: A NumPy version >=1.16.5 and <1.23.0 is required for this version of SciPy (detected version 1.23.1\n",
      "  warnings.warn(f\"A NumPy version >={np_minversion} and <{np_maxversion}\"\n"
     ]
    }
   ],
   "source": [
    "import utils.Encryption as cen\n",
    "import utils.CustomModel as cm\n",
    "import utils.DataPipeline as dp\n",
    "import tensorflow as tf\n",
    "from PIL import Image\n",
    "import json\n",
    "import cv2 as cv\n",
    "import numpy as np\n",
    "import matplotlib.pyplot as plt"
   ]
  },
  {
   "cell_type": "code",
   "execution_count": 2,
   "metadata": {},
   "outputs": [],
   "source": [
    "root_dir = \"F:\\\\pps_paper\\\\dataset\"\n",
    "train_dir = f\"{root_dir}\\\\train\"\n",
    "test_dir = f\"{root_dir}\\\\test\"\n",
    "validation_dir = f\"{root_dir}\\\\validation\"\n",
    "\n",
    "train_images = f\"{root_dir}\\\\train\\\\DataE\"\n",
    "train_masks = f\"{root_dir}\\\\train\\\\GroundTruth_1E\"\n",
    "test_images = f\"{root_dir}\\\\test\\\\DataE\"\n",
    "test_masks = f\"{root_dir}\\\\test\\\\GroundTruth_1E\"\n",
    "validation_images = f\"{root_dir}\\\\validation\\\\DataE\"\n",
    "validation_masks = f\"{root_dir}\\\\validation\\\\GroundTruth_1E\""
   ]
  },
  {
   "cell_type": "code",
   "execution_count": 3,
   "metadata": {},
   "outputs": [],
   "source": [
    "train = dp.CustomDataset(train_dir).get_Dataset()\n",
    "test = dp.CustomDataset(test_dir).get_Dataset()\n",
    "validation = dp.CustomDataset(validation_dir).get_Dataset()"
   ]
  },
  {
   "cell_type": "code",
   "execution_count": 4,
   "metadata": {},
   "outputs": [
    {
     "name": "stdout",
     "output_type": "stream",
     "text": [
      "Num GPUs Available:  1\n"
     ]
    }
   ],
   "source": [
    "print(\"Num GPUs Available: \", len(tf.config.list_physical_devices('GPU')))"
   ]
  },
  {
   "cell_type": "code",
   "execution_count": 16,
   "metadata": {},
   "outputs": [],
   "source": [
    "model = cm.CustomModel((256,256,3,))\n",
    "optimizer = tf.keras.optimizers.Adam(learning_rate=0.001)\n",
    "model.compile(loss=tf.keras.losses.MeanSquaredError(),optimizer=optimizer)"
   ]
  },
  {
   "cell_type": "code",
   "execution_count": 17,
   "metadata": {},
   "outputs": [
    {
     "name": "stdout",
     "output_type": "stream",
     "text": [
      "Epoch 1/3\n",
      "2000/2000 [==============================] - 36s 17ms/step - loss: 0.0012 - val_loss: 2.6631e-06\n",
      "Epoch 2/3\n",
      "2000/2000 [==============================] - 34s 17ms/step - loss: 2.9675e-06 - val_loss: 2.6631e-06\n",
      "Epoch 3/3\n",
      "2000/2000 [==============================] - 36s 18ms/step - loss: 2.9675e-06 - val_loss: 2.6631e-06\n"
     ]
    }
   ],
   "source": [
    "history = model.fit(train, validation_data=validation,batch_size=10,epochs=3)"
   ]
  },
  {
   "cell_type": "code",
   "execution_count": 18,
   "metadata": {},
   "outputs": [
    {
     "name": "stdout",
     "output_type": "stream",
     "text": [
      "Model: \"custom_model_4\"\n",
      "_________________________________________________________________\n",
      "Layer (type)                 Output Shape              Param #   \n",
      "=================================================================\n",
      "input_5 (InputLayer)         [(10, 256, 256, 3)]       0         \n",
      "_________________________________________________________________\n",
      "conv2d_24 (Conv2D)           multiple                  608       \n",
      "_________________________________________________________________\n",
      "conv2d_25 (Conv2D)           multiple                  1168      \n",
      "_________________________________________________________________\n",
      "max_pooling2d_12 (MaxPooling multiple                  0         \n",
      "_________________________________________________________________\n",
      "conv2d_26 (Conv2D)           multiple                  8224      \n",
      "_________________________________________________________________\n",
      "max_pooling2d_13 (MaxPooling multiple                  0         \n",
      "_________________________________________________________________\n",
      "conv2d_27 (Conv2D)           multiple                  32832     \n",
      "_________________________________________________________________\n",
      "max_pooling2d_14 (MaxPooling multiple                  0         \n",
      "_________________________________________________________________\n",
      "conv2d_28 (Conv2D)           multiple                  102464    \n",
      "_________________________________________________________________\n",
      "conv2d_transpose_16 (Conv2DT multiple                  102464    \n",
      "_________________________________________________________________\n",
      "up_sampling2d_12 (UpSampling multiple                  0         \n",
      "_________________________________________________________________\n",
      "conv2d_transpose_17 (Conv2DT multiple                  32800     \n",
      "_________________________________________________________________\n",
      "up_sampling2d_13 (UpSampling multiple                  0         \n",
      "_________________________________________________________________\n",
      "conv2d_transpose_18 (Conv2DT multiple                  8208      \n",
      "_________________________________________________________________\n",
      "up_sampling2d_14 (UpSampling multiple                  0         \n",
      "_________________________________________________________________\n",
      "conv2d_transpose_19 (Conv2DT multiple                  1160      \n",
      "_________________________________________________________________\n",
      "conv2d_29 (Conv2D)           multiple                  201       \n",
      "=================================================================\n",
      "Total params: 290,129\n",
      "Trainable params: 290,129\n",
      "Non-trainable params: 0\n",
      "_________________________________________________________________\n"
     ]
    }
   ],
   "source": [
    "history.model.summary()"
   ]
  },
  {
   "cell_type": "code",
   "execution_count": 8,
   "metadata": {},
   "outputs": [],
   "source": [
    "img = cv.imread('F:\\\\pps_paper\\\\dataset\\\\train\\\\DataE\\\\ISIC_0000000.jpg',1)\n",
    "\n",
    "key = None\n",
    "with open('key.json','r') as fp:\n",
    "    key = json.load(fp)\n",
    "\n",
    "Z = img.reshape((-1,3))\n",
    "\n",
    "# convert to np.float32\n",
    "Z = np.float32(Z)\n",
    "# define criteria, number of clusters(K) and apply kmeans()\n",
    "criteria = (cv.TERM_CRITERIA_EPS + cv.TERM_CRITERIA_MAX_ITER, 10, 1.0)\n",
    "K = 20\n",
    "ret,label,center=cv.kmeans(Z,K,None,criteria,10,cv.KMEANS_RANDOM_CENTERS)\n",
    "# Now convert back into uint8, and make original image\n",
    "center = np.uint8(center)\n",
    "res = center[label.flatten()]\n",
    "res2 = res.reshape((img.shape))\n",
    "\n",
    "res2 = cen.unscramble(res2,key)\n",
    "\n",
    "images = np.concatenate((img, res2), axis=1)\n",
    "\n",
    "cv.imshow('Images', images)\n",
    " \n",
    "cv.waitKey(0)\n",
    "cv.destroyAllWindows()"
   ]
  }
 ],
 "metadata": {
  "kernelspec": {
   "display_name": "Python 3.9.12 ('isic')",
   "language": "python",
   "name": "python3"
  },
  "language_info": {
   "codemirror_mode": {
    "name": "ipython",
    "version": 3
   },
   "file_extension": ".py",
   "mimetype": "text/x-python",
   "name": "python",
   "nbconvert_exporter": "python",
   "pygments_lexer": "ipython3",
   "version": "3.9.12"
  },
  "orig_nbformat": 4,
  "vscode": {
   "interpreter": {
    "hash": "2ed40115b9311c990e0db03d45bc5fce15d49910c366a778b1744ea7c53758dc"
   }
  }
 },
 "nbformat": 4,
 "nbformat_minor": 2
}
