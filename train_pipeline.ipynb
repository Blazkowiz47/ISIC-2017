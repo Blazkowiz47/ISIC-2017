{
 "cells": [
  {
   "cell_type": "code",
   "execution_count": 1,
   "metadata": {},
   "outputs": [],
   "source": [
    "import utils.Encryption as cen\n",
    "import utils.CustomModel as cm\n",
    "import utils.DataPipeline as dp\n",
    "import tensorflow as tf\n",
    "from PIL import Image\n",
    "import json\n",
    "import numpy as np\n",
    "import matplotlib.pyplot as plt"
   ]
  },
  {
   "cell_type": "code",
   "execution_count": 2,
   "metadata": {},
   "outputs": [],
   "source": [
    "root_dir = \"F:\\\\pps_paper\\\\dataset\"\n",
    "train_dir = f\"{root_dir}\\\\train\"\n",
    "test_dir = f\"{root_dir}\\\\test\"\n",
    "validation_dir = f\"{root_dir}\\\\validation\"\n",
    "\n",
    "train_images = f\"{root_dir}\\\\train\\\\DataE\"\n",
    "train_masks = f\"{root_dir}\\\\train\\\\GroundTruth_1E\"\n",
    "test_images = f\"{root_dir}\\\\test\\\\DataE\"\n",
    "test_masks = f\"{root_dir}\\\\test\\\\GroundTruth_1E\"\n",
    "validation_images = f\"{root_dir}\\\\validation\\\\DataE\"\n",
    "validation_masks = f\"{root_dir}\\\\validation\\\\GroundTruth_1E\""
   ]
  },
  {
   "cell_type": "code",
   "execution_count": 3,
   "metadata": {},
   "outputs": [],
   "source": [
    "train = dp.CustomDataset(train_dir).get_Dataset()\n",
    "test = dp.CustomDataset(test_dir).get_Dataset()\n",
    "validation = dp.CustomDataset(validation_dir).get_Dataset()"
   ]
  },
  {
   "cell_type": "code",
   "execution_count": 4,
   "metadata": {},
   "outputs": [
    {
     "name": "stdout",
     "output_type": "stream",
     "text": [
      "Num GPUs Available:  1\n"
     ]
    }
   ],
   "source": [
    "print(\"Num GPUs Available: \", len(tf.config.list_physical_devices('GPU')))"
   ]
  },
  {
   "cell_type": "code",
   "execution_count": 5,
   "metadata": {},
   "outputs": [],
   "source": [
    "model = cm.CustomModel((256,256,3,))\n",
    "model.compile(optimizer='adam', loss=tf.keras.losses.MeanSquaredError())"
   ]
  },
  {
   "cell_type": "code",
   "execution_count": 6,
   "metadata": {},
   "outputs": [
    {
     "name": "stdout",
     "output_type": "stream",
     "text": [
      "Epoch 1/2\n",
      "2000/2000 [==============================] - 38s 17ms/step - loss: 6.8342e-04 - val_loss: 1.2695e-05\n",
      "Epoch 2/2\n",
      "2000/2000 [==============================] - 33s 17ms/step - loss: 1.2379e-05 - val_loss: 1.2695e-05\n"
     ]
    }
   ],
   "source": [
    "history = model.fit(train, validation_data=validation,batch_size=10,epochs=2)"
   ]
  },
  {
   "cell_type": "code",
   "execution_count": 16,
   "metadata": {},
   "outputs": [
    {
     "name": "stdout",
     "output_type": "stream",
     "text": [
      "Model: \"custom_model\"\n",
      "_________________________________________________________________\n",
      "Layer (type)                 Output Shape              Param #   \n",
      "=================================================================\n",
      "input_1 (InputLayer)         [(10, 256, 256, 3)]       0         \n",
      "_________________________________________________________________\n",
      "conv2d (Conv2D)              multiple                  608       \n",
      "_________________________________________________________________\n",
      "conv2d_1 (Conv2D)            multiple                  1168      \n",
      "_________________________________________________________________\n",
      "max_pooling2d (MaxPooling2D) multiple                  0         \n",
      "_________________________________________________________________\n",
      "conv2d_2 (Conv2D)            multiple                  8224      \n",
      "_________________________________________________________________\n",
      "max_pooling2d_1 (MaxPooling2 multiple                  0         \n",
      "_________________________________________________________________\n",
      "conv2d_3 (Conv2D)            multiple                  32832     \n",
      "_________________________________________________________________\n",
      "max_pooling2d_2 (MaxPooling2 multiple                  0         \n",
      "_________________________________________________________________\n",
      "conv2d_4 (Conv2D)            multiple                  102464    \n",
      "_________________________________________________________________\n",
      "conv2d_transpose (Conv2DTran multiple                  102464    \n",
      "_________________________________________________________________\n",
      "up_sampling2d (UpSampling2D) multiple                  0         \n",
      "_________________________________________________________________\n",
      "conv2d_transpose_1 (Conv2DTr multiple                  32800     \n",
      "_________________________________________________________________\n",
      "up_sampling2d_1 (UpSampling2 multiple                  0         \n",
      "_________________________________________________________________\n",
      "conv2d_transpose_2 (Conv2DTr multiple                  8208      \n",
      "_________________________________________________________________\n",
      "up_sampling2d_2 (UpSampling2 multiple                  0         \n",
      "_________________________________________________________________\n",
      "conv2d_transpose_3 (Conv2DTr multiple                  1160      \n",
      "_________________________________________________________________\n",
      "conv2d_5 (Conv2D)            multiple                  201       \n",
      "=================================================================\n",
      "Total params: 290,129\n",
      "Trainable params: 290,129\n",
      "Non-trainable params: 0\n",
      "_________________________________________________________________\n"
     ]
    }
   ],
   "source": [
    "history.model.summary()"
   ]
  }
 ],
 "metadata": {
  "kernelspec": {
   "display_name": "Python 3.9.12 ('blazkowiz')",
   "language": "python",
   "name": "python3"
  },
  "language_info": {
   "codemirror_mode": {
    "name": "ipython",
    "version": 3
   },
   "file_extension": ".py",
   "mimetype": "text/x-python",
   "name": "python",
   "nbconvert_exporter": "python",
   "pygments_lexer": "ipython3",
   "version": "3.9.12"
  },
  "orig_nbformat": 4,
  "vscode": {
   "interpreter": {
    "hash": "7ee5975616448165ec7473ca23f75162aeb86cbb1e3b29bb11b91e477bc89a19"
   }
  }
 },
 "nbformat": 4,
 "nbformat_minor": 2
}
