{
 "cells": [
  {
   "cell_type": "code",
   "execution_count": 1,
   "metadata": {},
   "outputs": [
    {
     "name": "stderr",
     "output_type": "stream",
     "text": [
      "d:\\ProgramData\\Anaconda3\\envs\\isic\\lib\\site-packages\\scipy\\__init__.py:146: UserWarning: A NumPy version >=1.16.5 and <1.23.0 is required for this version of SciPy (detected version 1.23.1\n",
      "  warnings.warn(f\"A NumPy version >={np_minversion} and <{np_maxversion}\"\n"
     ]
    }
   ],
   "source": [
    "import utils.Evaluation as ev\n",
    "import utils.CustomModel as cm\n",
    "import utils.Encryption as en\n",
    "import utils.utils as ut\n",
    "import tensorflow as tf\n",
    "import numpy as np\n",
    "import matplotlib.pyplot as plt\n",
    "import cv2 \n",
    "import json"
   ]
  },
  {
   "cell_type": "code",
   "execution_count": 2,
   "metadata": {},
   "outputs": [],
   "source": [
    "root_dir = \"F:\\\\pps_paper\\\\dataset\"\n",
    "train_dir = f\"{root_dir}\\\\train\"\n",
    "test_dir = f\"{root_dir}\\\\test\"\n",
    "validation_dir = f\"{root_dir}\\\\validation\"\n",
    "\n",
    "train_images = f\"{root_dir}\\\\train\\\\DataE\"\n",
    "train_masks = f\"{root_dir}\\\\train\\\\GroundTruth_1E\"\n",
    "test_images = f\"{root_dir}\\\\test\\\\DataE\"\n",
    "test_masks = f\"{root_dir}\\\\test\\\\GroundTruth_1E\"\n",
    "validation_images = f\"{root_dir}\\\\validation\\\\DataE\"\n",
    "validation_masks = f\"{root_dir}\\\\validation\\\\GroundTruth_1E\""
   ]
  },
  {
   "cell_type": "code",
   "execution_count": 3,
   "metadata": {},
   "outputs": [],
   "source": [
    "image_name = 'ISIC_0000001' \n",
    "img = cv2.imread(f'F:\\\\pps_paper\\\\dataset\\\\train\\\\DataE\\\\{image_name}.jpg',1)\n",
    "groundTruth = cv2.imread(f'F:\\\\pps_paper\\\\dataset\\\\train\\\\GroundTruth_1E\\\\{image_name}_segmentation.png',0)\n"
   ]
  },
  {
   "cell_type": "code",
   "execution_count": 4,
   "metadata": {},
   "outputs": [],
   "source": [
    "image_name = 'ISIC_0000376' \n",
    "img = cv2.imread(f'F:\\\\pps_paper\\\\dataset\\\\train\\\\DataE\\\\{image_name}.jpg',1)\n",
    "groundTruth = cv2.imread(f'F:\\\\pps_paper\\\\dataset\\\\train\\\\GroundTruth_1E\\\\{image_name}_segmentation.png',0)\n",
    "key = None\n",
    "with open('key.json','r') as fp:\n",
    "    key = json.load(fp)\n",
    "\n",
    "Zb , Zg , Zr = cv2.split(img)\n",
    "Zb , Zg , Zr = Zb.flatten() , Zg.flatten() , Zr.flatten()  \n",
    "# convert to np.float32\n",
    "Zr = np.float32(Zr)\n",
    "# define criteria, number of clusters(K) and apply kmeans()\n",
    "criteria = (cv2.TERM_CRITERIA_EPS + cv2.TERM_CRITERIA_MAX_ITER, 10, 1.0)\n",
    "K = 2\n",
    "\n",
    "ret,label,center = cv2.kmeans(Zr,K,None,criteria,10,cv2.KMEANS_RANDOM_CENTERS)\n",
    "# Now convert back into uint8, and make original image\n",
    "center = np.uint8(center)\n",
    "red = center[label.flatten()]\n",
    "red = red.reshape((img.shape[0],img.shape[1]))\n",
    "\n",
    "red_un = en.unscramble(red,key)"
   ]
  },
  {
   "cell_type": "code",
   "execution_count": 8,
   "metadata": {},
   "outputs": [],
   "source": [
    "gt = tf.convert_to_tensor(groundTruth)\n",
    "result = tf.convert_to_tensor((red_un < 200)*255)\n",
    "result = result / tf.reduce_max(result)\n"
   ]
  },
  {
   "cell_type": "code",
   "execution_count": 9,
   "metadata": {},
   "outputs": [],
   "source": [
    "conf_mat = ev.get_confusion_matrix(gt, result)"
   ]
  },
  {
   "cell_type": "code",
   "execution_count": null,
   "metadata": {},
   "outputs": [],
   "source": [
    "plt.imshow((red_un < 200)*255, cmap='gray')"
   ]
  }
 ],
 "metadata": {
  "kernelspec": {
   "display_name": "Python 3.9.12 ('isic')",
   "language": "python",
   "name": "python3"
  },
  "language_info": {
   "codemirror_mode": {
    "name": "ipython",
    "version": 3
   },
   "file_extension": ".py",
   "mimetype": "text/x-python",
   "name": "python",
   "nbconvert_exporter": "python",
   "pygments_lexer": "ipython3",
   "version": "3.9.12"
  },
  "orig_nbformat": 4,
  "vscode": {
   "interpreter": {
    "hash": "2ed40115b9311c990e0db03d45bc5fce15d49910c366a778b1744ea7c53758dc"
   }
  }
 },
 "nbformat": 4,
 "nbformat_minor": 2
}
