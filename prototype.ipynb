{
 "cells": [
  {
   "cell_type": "code",
   "execution_count": 8,
   "metadata": {},
   "outputs": [],
   "source": [
    "from utils.DataPipeline import CustomDataset\n",
    "from utils.CustomModel import CustomModel\n",
    "import tensorflow as tf\n",
    "from tensorflow.keras import  losses, callbacks\n"
   ]
  },
  {
   "cell_type": "code",
   "execution_count": 9,
   "metadata": {},
   "outputs": [],
   "source": [
    "test_dir = 'dataset\\\\test'\n",
    "validation_dir = 'dataset\\\\validation'\n",
    "train_dir = 'dataset\\\\train'\n",
    "checkpoint_filepath = 'checkpoints\\\\'\n",
    "EPOCHS = 2\n",
    "INPUT_SHAPE = (192,256)\n",
    "BATCH_SIZE = 20\n",
    "metric = 'val_accuracy'"
   ]
  },
  {
   "cell_type": "code",
   "execution_count": 10,
   "metadata": {},
   "outputs": [],
   "source": [
    "train_data = CustomDataset(train_dir, out_shape=INPUT_SHAPE,batch_size=BATCH_SIZE).get_Dataset()\n",
    "validation_data = CustomDataset(validation_dir, out_shape=INPUT_SHAPE,batch_size=BATCH_SIZE).get_Dataset()"
   ]
  },
  {
   "cell_type": "code",
   "execution_count": 11,
   "metadata": {},
   "outputs": [],
   "source": [
    "model = CustomModel(input_shape=(INPUT_SHAPE[0], INPUT_SHAPE[1],3), batch_size=BATCH_SIZE)"
   ]
  },
  {
   "cell_type": "code",
   "execution_count": 12,
   "metadata": {},
   "outputs": [],
   "source": [
    "model.compile(optimizer='adam', loss=losses.MeanSquaredError())\n",
    "# model.summary()"
   ]
  },
  {
   "cell_type": "code",
   "execution_count": 13,
   "metadata": {},
   "outputs": [
    {
     "name": "stdout",
     "output_type": "stream",
     "text": [
      "Epoch 1/2\n",
      "100/100 [==============================] - 149s 1s/step - loss: 0.0159 - val_loss: 2.6683e-06\n",
      "Epoch 2/2\n",
      "100/100 [==============================] - 153s 2s/step - loss: 2.9772e-06 - val_loss: 2.6683e-06\n"
     ]
    },
    {
     "data": {
      "text/plain": [
       "<tensorflow.python.keras.callbacks.History at 0x1c96ecb7460>"
      ]
     },
     "execution_count": 13,
     "metadata": {},
     "output_type": "execute_result"
    }
   ],
   "source": [
    "\n",
    "model_checkpoint_callback = callbacks.ModelCheckpoint(\n",
    "    filepath=checkpoint_filepath,\n",
    "    save_weights_only=True,\n",
    "    monitor=metric,\n",
    ")\n",
    "    \n",
    "model.fit(  \n",
    "    train_data,\n",
    "    batch_size=BATCH_SIZE,\n",
    "    epochs=EPOCHS,\n",
    "    shuffle=True,\n",
    "    validation_data=validation_data, \n",
    "    callbacks=[model_checkpoint_callback],\n",
    ")"
   ]
  },
  {
   "cell_type": "code",
   "execution_count": 14,
   "metadata": {},
   "outputs": [
    {
     "name": "stdout",
     "output_type": "stream",
     "text": [
      "Model: \"custom_model_1\"\n",
      "_________________________________________________________________\n",
      "Layer (type)                 Output Shape              Param #   \n",
      "=================================================================\n",
      "input_2 (InputLayer)         [(20, 192, 256, 3)]       0         \n",
      "_________________________________________________________________\n",
      "conv2d_6 (Conv2D)            multiple                  608       \n",
      "_________________________________________________________________\n",
      "conv2d_7 (Conv2D)            multiple                  1168      \n",
      "_________________________________________________________________\n",
      "max_pooling2d_3 (MaxPooling2 multiple                  0         \n",
      "_________________________________________________________________\n",
      "conv2d_8 (Conv2D)            multiple                  8224      \n",
      "_________________________________________________________________\n",
      "max_pooling2d_4 (MaxPooling2 multiple                  0         \n",
      "_________________________________________________________________\n",
      "conv2d_9 (Conv2D)            multiple                  32832     \n",
      "_________________________________________________________________\n",
      "max_pooling2d_5 (MaxPooling2 multiple                  0         \n",
      "_________________________________________________________________\n",
      "conv2d_10 (Conv2D)           multiple                  102464    \n",
      "_________________________________________________________________\n",
      "conv2d_transpose_4 (Conv2DTr multiple                  102464    \n",
      "_________________________________________________________________\n",
      "up_sampling2d_3 (UpSampling2 multiple                  0         \n",
      "_________________________________________________________________\n",
      "conv2d_transpose_5 (Conv2DTr multiple                  32800     \n",
      "_________________________________________________________________\n",
      "up_sampling2d_4 (UpSampling2 multiple                  0         \n",
      "_________________________________________________________________\n",
      "conv2d_transpose_6 (Conv2DTr multiple                  8208      \n",
      "_________________________________________________________________\n",
      "up_sampling2d_5 (UpSampling2 multiple                  0         \n",
      "_________________________________________________________________\n",
      "conv2d_transpose_7 (Conv2DTr multiple                  1160      \n",
      "_________________________________________________________________\n",
      "conv2d_11 (Conv2D)           multiple                  201       \n",
      "=================================================================\n",
      "Total params: 290,129\n",
      "Trainable params: 290,129\n",
      "Non-trainable params: 0\n",
      "_________________________________________________________________\n"
     ]
    }
   ],
   "source": [
    "model.summary()"
   ]
  }
 ],
 "metadata": {
  "kernelspec": {
   "display_name": "Python 3.9.12 ('blazkowiz')",
   "language": "python",
   "name": "python3"
  },
  "language_info": {
   "codemirror_mode": {
    "name": "ipython",
    "version": 3
   },
   "file_extension": ".py",
   "mimetype": "text/x-python",
   "name": "python",
   "nbconvert_exporter": "python",
   "pygments_lexer": "ipython3",
   "version": "3.9.12"
  },
  "orig_nbformat": 4,
  "vscode": {
   "interpreter": {
    "hash": "7ee5975616448165ec7473ca23f75162aeb86cbb1e3b29bb11b91e477bc89a19"
   }
  }
 },
 "nbformat": 4,
 "nbformat_minor": 2
}
