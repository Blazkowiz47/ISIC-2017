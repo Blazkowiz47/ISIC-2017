{
 "cells": [
  {
   "cell_type": "code",
   "execution_count": 1,
   "metadata": {},
   "outputs": [
    {
     "name": "stderr",
     "output_type": "stream",
     "text": [
      "d:\\ProgramData\\Anaconda3\\envs\\isic\\lib\\site-packages\\scipy\\__init__.py:146: UserWarning: A NumPy version >=1.16.5 and <1.23.0 is required for this version of SciPy (detected version 1.23.1\n",
      "  warnings.warn(f\"A NumPy version >={np_minversion} and <{np_maxversion}\"\n"
     ]
    }
   ],
   "source": [
    "import utils.Encryption as cen\n",
    "import utils.CustomModel as cm\n",
    "import utils.DataPipeline as dp\n",
    "import tensorflow as tf\n",
    "from PIL import Image\n",
    "import json\n",
    "import cv2 \n",
    "import numpy as np\n",
    "import matplotlib.pyplot as plt"
   ]
  },
  {
   "cell_type": "code",
   "execution_count": null,
   "metadata": {},
   "outputs": [],
   "source": [
    "root_dir = \"F:\\\\pps_paper\\\\dataset\"\n",
    "train_dir = f\"{root_dir}\\\\train\"\n",
    "test_dir = f\"{root_dir}\\\\test\"\n",
    "validation_dir = f\"{root_dir}\\\\validation\"\n",
    "\n",
    "# For Encrypted dataset\n",
    "train_images = f\"{root_dir}\\\\train\\\\DataPE\"\n",
    "train_masks = f\"{root_dir}\\\\train\\\\GroundTruth_1PE\"\n",
    "test_images = f\"{root_dir}\\\\test\\\\DataPE\"\n",
    "test_masks = f\"{root_dir}\\\\test\\\\GroundTruth_1PE\"\n",
    "validation_images = f\"{root_dir}\\\\validation\\\\DataPE\"\n",
    "validation_masks = f\"{root_dir}\\\\validation\\\\GroundTruth_1PE\"\n",
    "\n",
    "# # For preprocessed dataset\n",
    "# train_images = f\"{root_dir}\\\\train\\\\DataP\"\n",
    "# train_masks = f\"{root_dir}\\\\train\\\\GroundTruth_1P\"\n",
    "# test_images = f\"{root_dir}\\\\test\\\\DataP\"\n",
    "# test_masks = f\"{root_dir}\\\\test\\\\GroundTruth_1P\"\n",
    "# validation_images = f\"{root_dir}\\\\validation\\\\DataP\"\n",
    "# validation_masks = f\"{root_dir}\\\\validation\\\\GroundTruth_1P\""
   ]
  }
 ],
 "metadata": {
  "kernelspec": {
   "display_name": "Python 3.9.12 ('isic')",
   "language": "python",
   "name": "python3"
  },
  "language_info": {
   "codemirror_mode": {
    "name": "ipython",
    "version": 3
   },
   "file_extension": ".py",
   "mimetype": "text/x-python",
   "name": "python",
   "nbconvert_exporter": "python",
   "pygments_lexer": "ipython3",
   "version": "3.9.12"
  },
  "orig_nbformat": 4,
  "vscode": {
   "interpreter": {
    "hash": "2ed40115b9311c990e0db03d45bc5fce15d49910c366a778b1744ea7c53758dc"
   }
  }
 },
 "nbformat": 4,
 "nbformat_minor": 2
}
